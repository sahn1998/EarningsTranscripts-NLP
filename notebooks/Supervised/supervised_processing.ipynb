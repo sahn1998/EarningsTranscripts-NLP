{
 "cells": [
  {
   "cell_type": "markdown",
   "id": "41e73b8b",
   "metadata": {},
   "source": []
  },
  {
   "cell_type": "markdown",
   "id": "fcdd1eba",
   "metadata": {},
   "source": [
    "# Imports"
   ]
  },
  {
   "cell_type": "code",
   "execution_count": 18,
   "id": "1896b83c",
   "metadata": {},
   "outputs": [],
   "source": [
    "import pandas as pd\n",
    "from pathlib import Path\n",
    "from sklearn.preprocessing import OneHotEncoder\n",
    "import numpy as np\n",
    "import os"
   ]
  },
  {
   "cell_type": "markdown",
   "id": "d43b2c8a",
   "metadata": {},
   "source": [
    "# Data Settings"
   ]
  },
  {
   "cell_type": "code",
   "execution_count": null,
   "id": "372bf379",
   "metadata": {},
   "outputs": [],
   "source": [
    "tfidf_path = Path(f\"../words_TFIDF/\")\n",
    "\n",
    "quarters = [\n",
    "    \"Q1-2023\",\n",
    "    \"Q2-2023\",\n",
    "    \"Q3-2023\",\n",
    "    \"Q4-2023\",\n",
    "    \"Q1-2024\",\n",
    "    \"Q2-2024\",\n",
    "    \"Q3-2024\",\n",
    "    \"Q4-2024\"\n",
    "]"
   ]
  },
  {
   "cell_type": "code",
   "execution_count": 4,
   "id": "c7461b03",
   "metadata": {},
   "outputs": [],
   "source": [
    "import pandas as pd\n",
    "import os\n",
    "\n",
    "# Load TF-IDF for Q1 2025\n",
    "tfidf_df_q12025 = pd.read_csv(f\"{tfidf_path}/tfidf_q1_2025.csv\")\n",
    "\n",
    "# Load TF-IDF for Q1 2023 - Q4 2024\n",
    "tfidf_df_otherq = pd.read_csv(f\"{tfidf_path}/tfidf_non_q1_2025.csv\")"
   ]
  },
  {
   "cell_type": "markdown",
   "id": "9d7ce955",
   "metadata": {},
   "source": [
    "# Load Data\n"
   ]
  },
  {
   "cell_type": "code",
   "execution_count": null,
   "id": "7d83cb12",
   "metadata": {},
   "outputs": [],
   "source": [
    "import pandas as pd\n",
    "import glob\n",
    "import os\n",
    "\n",
    "# Recursively find all EPS CSVs under data/\n",
    "eps_files = glob.glob(\"../../data/**/EPS-*.csv\", recursive=True)\n",
    "\n",
    "# Build company-to-DataFrame map (case-insensitive)\n",
    "eps_data = {}\n",
    "\n",
    "for filepath in eps_files:\n",
    "    # Use parent folder name as company name\n",
    "    company_name = os.path.basename(os.path.dirname(filepath))\n",
    "    try:\n",
    "        df = pd.read_csv(filepath)\n",
    "        df['Quarter'] = df['Quarter'].str.strip().str.upper()\n",
    "        df['Company'] = company_name\n",
    "        eps_data[company_name.lower()] = df  # Store using lowercase key\n",
    "    except Exception as e:\n",
    "        print(f\"Error loading {filepath}: {e}\")\n",
    "\n",
    "# === Load TF-IDF Data ===\n",
    "tfidf_train = pd.read_csv(f\"{tfidf_path}/tfidf_non_q1_2025.csv\")  # Q1 2023 to Q4 2024\n",
    "tfidf_test = pd.read_csv(f\"{tfidf_path}/tfidf_q1_2025.csv\")       # Q1 2025\n",
    "    "
   ]
  },
  {
   "cell_type": "markdown",
   "id": "59014065",
   "metadata": {},
   "source": [
    "# Preprocess Data\n",
    "Merge EPS data with the current TFIDF data and label.\n",
    "1. Label = 1  if  EPS in current_quarter > EPS in past_quarter\n",
    "2. Label = 0  otherwise (EPS decreased or stayed the same)"
   ]
  },
  {
   "cell_type": "code",
   "execution_count": null,
   "id": "30ecd20c",
   "metadata": {},
   "outputs": [],
   "source": [
    "# === Function to get EPS label (EPS increase between two quarters) ===\n",
    "def get_eps_label(company_name, past_quarter, current_quarter):\n",
    "    key = company_name.lower()\n",
    "    if key not in eps_data:\n",
    "        return None\n",
    "    df = eps_data[key]\n",
    "    try:\n",
    "        eps_before = df.loc[df['Quarter'] == past_quarter.upper(), 'EPS'].values[0]\n",
    "        eps_current = df.loc[df['Quarter'] == current_quarter.upper(), 'EPS'].values[0]\n",
    "        return int(eps_current > eps_before)\n",
    "    except IndexError:\n",
    "        return None\n",
    "    \n",
    "# List of TF-IDF quarters (dash format)\n",
    "quarters_dash = [\n",
    "    \"Q1-2023\",\n",
    "    \"Q2-2023\",\n",
    "    \"Q3-2023\",\n",
    "    \"Q4-2023\",\n",
    "    \"Q1-2024\",\n",
    "    \"Q2-2024\",\n",
    "    \"Q3-2024\",\n",
    "    \"Q4-2024\"\n",
    "]\n",
    "\n",
    "# Convert to EPS-style format \"Q12023, Q22023, Q32023, Q42023\"\n",
    "quarters_eps = [q.replace(\"-\", \"\") for q in quarters_dash]\n",
    "\n",
    "# Collect all labeled training rows\n",
    "all_train_dfs = []\n",
    "\n",
    "for idx in range(len(quarters_dash)):\n",
    "    current_q_dash = quarters_dash[idx]\n",
    "    current_q_eps = quarters_eps[idx]\n",
    "    \n",
    "    if idx == 0:\n",
    "        past_q_eps = \"Q42022\"\n",
    "    else:\n",
    "        past_q_eps = quarters_eps[idx - 1]\n",
    "\n",
    "    # Filter TF-IDF for current quarter\n",
    "    df_q = tfidf_train[tfidf_train[\"quarter\"] == current_q_dash].copy()\n",
    "    \n",
    "    # Label with EPS increase between past and current quarter\n",
    "    df_q[\"Label\"] = df_q[\"company\"].apply(lambda c: get_eps_label(c, past_q_eps, current_q_eps))\n",
    "    df_q = df_q.dropna(subset=[\"Label\"])\n",
    "\n",
    "    all_train_dfs.append(df_q)\n",
    "\n",
    "# Final training data\n",
    "train_df_combined = pd.concat(all_train_dfs, ignore_index=True)\n",
    "\n",
    "# # === Label test data (Q4 2024 ➜ Q1 2025) ===\n",
    "# test_df = tfidf_test.copy()\n",
    "# test_df[\"Label\"] = test_df[\"company\"].apply(lambda c: get_eps_label(c, \"Q42024\", \"Q12025\"))\n",
    "# test_df = test_df.dropna(subset=[\"Label\"])\n",
    "\n",
    "# X_test = test_df.iloc[:, 3:]\n",
    "# y_test = test_df[\"Label\"].astype(int)\n",
    "\n",
    "# X_train.head()"
   ]
  },
  {
   "cell_type": "markdown",
   "id": "0e3a8084",
   "metadata": {},
   "source": [
    "# Classification\n",
    "We will try to answer: \"Will EPS increase in Q1 2025 compared to Q4 2024?\"\n",
    "\n",
    "- Features: All TFIDF words\n",
    "- Target: Binary (0 = no increase, 1 = increase)"
   ]
  },
  {
   "cell_type": "markdown",
   "id": "53b08020",
   "metadata": {},
   "source": [
    "# Train Set Creation"
   ]
  },
  {
   "cell_type": "code",
   "execution_count": 23,
   "id": "bdf0a588",
   "metadata": {},
   "outputs": [],
   "source": [
    "# 1. Drop company and quarter\n",
    "df = train_df_combined.drop(columns=[\"company\", \"quarter\"])\n",
    "\n",
    "# 2. Separate features and target\n",
    "X_tfidf = df.drop(columns=[\"sector\", \"Label\"])  # TF-IDF (1000 cols)\n",
    "y_train = df[\"Label\"].astype(int)\n",
    "\n",
    "# 3. One-hot encode sector\n",
    "encoder = OneHotEncoder(sparse_output = False, handle_unknown='ignore')\n",
    "sector_encoded = encoder.fit_transform(df[[\"sector\"]])  # must be 2D\n",
    "\n",
    "# 4. Concatenate TF-IDF + Sector features\n",
    "X_train = np.hstack([X_tfidf.values, sector_encoded])"
   ]
  },
  {
   "cell_type": "code",
   "execution_count": null,
   "id": "7ff33801",
   "metadata": {},
   "outputs": [],
   "source": [
    "from sklearn.model_selection import GridSearchCV, StratifiedKFold\n",
    "from sklearn.linear_model import LogisticRegression\n",
    "from sklearn.ensemble import RandomForestClassifier\n",
    "from sklearn.svm import LinearSVC\n",
    "from sklearn.neighbors import KNeighborsClassifier\n",
    "from xgboost import XGBClassifier\n",
    "from sklearn.metrics import classification_report\n",
    "from joblib import dump\n",
    "\n",
    "# Define parameter grids\n",
    "param_grids = {\n",
    "    \"Logistic Regression\": {\n",
    "        \"model\": LogisticRegression(class_weight=\"balanced\", max_iter=1000),\n",
    "        \"params\": {\n",
    "            \"C\": [0.01, 0.1, 1, 10]\n",
    "        }\n",
    "    },\n",
    "    \"Random Forest\": {\n",
    "        \"model\": RandomForestClassifier(class_weight=\"balanced\", random_state=42),\n",
    "        \"params\": {\n",
    "            \"n_estimators\": [100, 200],\n",
    "            \"max_depth\": [None, 10, 20]\n",
    "        }\n",
    "    },\n",
    "    \"XGBoost\": {\n",
    "        \"model\": XGBClassifier(use_label_encoder=False, eval_metric=\"logloss\", random_state=42),\n",
    "        \"params\": {\n",
    "            \"n_estimators\": [100, 200],\n",
    "            \"max_depth\": [3, 6],\n",
    "            \"scale_pos_weight\": [1, 2]  # for imbalance\n",
    "        }\n",
    "    },\n",
    "    \"KNN\": {\n",
    "        \"model\": KNeighborsClassifier(),\n",
    "        \"params\": {\n",
    "            \"n_neighbors\": [3, 5, 7]\n",
    "        }\n",
    "    },\n",
    "    \"Linear SVC\": {\n",
    "        \"model\": LinearSVC(class_weight=\"balanced\", max_iter=2000),\n",
    "        \"params\": {\n",
    "            \"C\": [0.01, 0.1, 1]\n",
    "        }\n",
    "    }\n",
    "}\n",
    "\n",
    "# Stratified K-Fold setup\n",
    "skf = StratifiedKFold(n_splits=5, shuffle=True, random_state=42)\n",
    "\n",
    "# Run GridSearch for each classifier\n",
    "best_models = []\n",
    "for name, spec in param_grids.items():\n",
    "    print(f\"\\n=== GridSearchCV for {name} ===\")\n",
    "    grid = GridSearchCV(spec[\"model\"], spec[\"params\"], cv=skf, scoring=\"f1\", n_jobs=-1)\n",
    "    grid.fit(X_train, y_train)\n",
    "    \n",
    "    print(f\"Best params: {grid.best_params_}\")\n",
    "    print(f\"Best CV F1: {grid.best_score_:.4f}\")\n",
    "    \n",
    "    best_model = grid.best_estimator_\n",
    "    best_models.append((name, best_model))\n",
    "\n",
    "    # Save best model\n",
    "    dump(best_model, f\"best_model_{name.replace(' ', '_')}.joblib\")\n",
    "    print(f\"Model saved: best_model_{name.replace(' ', '_')}.joblib\")"
   ]
  },
  {
   "cell_type": "markdown",
   "id": "4437de41",
   "metadata": {},
   "source": [
    "# Test Set Creation"
   ]
  },
  {
   "cell_type": "code",
   "execution_count": null,
   "id": "fe9e846f",
   "metadata": {},
   "outputs": [
    {
     "ename": "AttributeError",
     "evalue": "'numpy.ndarray' object has no attribute 'head'",
     "output_type": "error",
     "traceback": [
      "\u001b[31m---------------------------------------------------------------------------\u001b[39m",
      "\u001b[31mAttributeError\u001b[39m                            Traceback (most recent call last)",
      "\u001b[36mCell\u001b[39m\u001b[36m \u001b[39m\u001b[32mIn[22]\u001b[39m\u001b[32m, line 1\u001b[39m\n\u001b[32m----> \u001b[39m\u001b[32m1\u001b[39m \u001b[43mX_train\u001b[49m\u001b[43m.\u001b[49m\u001b[43mhead\u001b[49m()\n",
      "\u001b[31mAttributeError\u001b[39m: 'numpy.ndarray' object has no attribute 'head'"
     ]
    }
   ],
   "source": [
    "# For test set\n",
    "df_test = test_df.drop(columns=[\"company\", \"quarter\"])\n",
    "X_test_tfidf = df_test.drop(columns=[\"sector\", \"Label\"])\n",
    "y_test = df_test[\"Label\"].astype(int)\n",
    "\n",
    "sector_test_encoded = encoder.transform(df_test[[\"sector\"]])\n",
    "X_test = np.hstack([X_test_tfidf.values, sector_test_encoded])\n"
   ]
  },
  {
   "cell_type": "code",
   "execution_count": 8,
   "id": "ee5c4c87",
   "metadata": {},
   "outputs": [
    {
     "name": "stdout",
     "output_type": "stream",
     "text": [
      "['company', 'quarter', 'Sector', 'ability', 'able', 'accelerate', 'accelerated', 'accelerating', 'acceleration', 'access', 'account', 'achieve', 'achieved', 'acquisition', 'action', 'active', 'activity', 'actual result', 'added', 'adding', 'addition', 'additionally', 'address', 'adhesive', 'adjusted', 'adjustment', 'adoption', 'advanced', 'advantage', 'advertiser', 'advertising', 'advisor', 'advisory', 'aerospace', 'affiliated', 'affiliated company', 'affo', 'ag', 'ag kgaa', 'ago', 'agreement', 'ai', 'air', 'air line', 'aircraft', 'akash', 'alastair', 'allocation', 'allow', 'allows', 'alternative', 'amazon', 'america', 'analysis', 'answer', 'answer session', 'anticipate', 'anticipated', 'app', 'application', 'approach', 'approximately', 'apps', 'architecture', 'area', 'asia', 'asked', 'asking', 'asset', 'associate', 'associated', 'assume', 'assumption', 'attractive', 'audience', 'auto', 'automation', 'automotive', 'availability', 'average', 'away', 'aws', 'backdrop', 'backlog', 'balance', 'balance sheet', 'banking', 'base', 'basically', 'basis point', 'begin', 'beginning', 'behavior', 'belief', 'best', 'big', 'bigger', 'biggest', 'boeing', 'book', 'booking', 'border', 'brand', 'bring', 'bringing', 'broad', 'broader', 'broadly', 'build', 'building', 'built', 'buy', 'buyback', 'buying', 'called', 'came', 'canada', 'capability', 'capacity', 'capital', 'capital allocation', 'capital expenditure', 'card', 'care', 'carrier', 'carsten', 'case', 'cash flow', 'casm', 'category', 'cause', 'center', 'certain', 'certainly', 'chain', 'challenge', 'challenging', 'changed', 'changing', 'channel', 'charge', 'charlie', 'china', 'chinese', 'chip', 'choice', 'churn', 'city', 'class', 'clear', 'clearly', 'client', 'close', 'closely', 'closer', 'cloud', 'club', 'color', 'combination', 'combined', 'come line', 'commentary', 'commerce', 'commercial', 'commercial real', 'commitment', 'committed', 'common', 'communication', 'community', 'comp', 'company limited', 'comparable', 'compared', 'comparison', 'compensation', 'competitive', 'competitor', 'complete', 'component', 'compute', 'computing', 'concludes', 'condition', 'confidence', 'confident', 'connection', 'consecutive', 'consent', 'consent logo', 'consistent', 'constant', 'constant currency', 'consumer', 'contact', 'contact redistribution', 'content', 'content including', 'context', 'continuing', 'contract', 'contribution', 'control', 'conversation', 'conversion', 'core', 'corporate', 'corrected', 'count', 'country', 'course', 'covid', 'cpu', 'create', 'creating', 'critical', 'cross', 'cross border', 'curious', 'currency', 'current', 'currently', 'curve', 'customer', 'cut', 'cycle', 'damage', 'data center', 'date', 'deal', 'decade', 'decision', 'decline', 'declined', 'decrease', 'decreased', 'deep', 'definitely', 'deliver', 'delivered', 'delivering', 'delivery', 'deploy', 'deployment', 'deposit', 'design', 'despite', 'developer', 'development', 'device', 'differ', 'differ materially', 'difference', 'different', 'difficult', 'digit', 'digital', 'diluted', 'direct', 'direction', 'directly', 'discipline', 'disciplined', 'disconnect', 'discus', 'disruption', 'distribution', 'dividend', 'doing', 'domestic', 'double', 'double digit', 'driven higher', 'driver', 'driving', 'drove', 'dynamic', 'easier', 'ecommerce', 'economic', 'economy', 'ecosystem', 'edge', 'effect', 'effective', 'effectively', 'efficiency', 'efficient', 'effort', 'electronics', 'element', 'elevated', 'embedded', 'employee', 'enable', 'encouraged', 'ended', 'energy', 'engagement', 'engine', 'ensure', 'enterprise', 'entire', 'environment', 'equipment', 'equity', 'eric', 'estate', 'estimate', 'eur', 'europe', 'event', 'ex', 'exactly', 'example', 'excess', 'exchange', 'excited', 'excluding', 'execute', 'executing', 'execution', 'existing', 'exit', 'expand', 'expanded', 'expanding', 'expansion', 'expecting', 'expenditure', 'expense', 'experience', 'exposure', 'extent', 'extremely', 'facility', 'fact', 'fair', 'family', 'far', 'fast', 'faster', 'favorable', 'feature', 'fed', 'fee', 'feel', 'feel good', 'feel like', 'filing', 'final', 'finally', 'finance', 'financial measure', 'financial result', 'financing', 'firm', 'fixed', 'flat', 'fleet', 'flexibility', 'flight', 'flying', 'folk', 'follow', 'following', 'food', 'footprint', 'forecast', 'foreign', 'form', 'foundation', 'foundry', 'framework', 'framing', 'framing similar', 'franchise', 'free', 'free cash', 'fuel', 'function', 'fund', 'fundamental', 'fx', 'gain', 'game', 'gaming', 'gas', 'gave', 'gen', 'general', 'generally', 'generate', 'generated', 'generation', 'generative', 'generative ai', 'gerard', 'getting', 'giving', 'global', 'global intelligence', 'globally', 'goal', 'going forward', 'got', 'government', 'gpu', 'gpus', 'grade', 'greater', 'grew', 'grocery', 'gross', 'gross margin', 'group', 'grow', 'growing', 'guide', 'guy', 'hair', 'hand', 'happen', 'happening', 'happens', 'happy', 'hard', 'hardware', 'having', 'head', 'headcount', 'headwind', 'health', 'healthy', 'hear', 'heard', 'helped', 'helpful', 'helping', 'hey', 'high end', 'high single', 'higher rate', 'highest', 'highlight', 'highlighted', 'highly', 'historically', 'history', 'hit', 'hold', 'holding', 'holiday', 'home', 'hope', 'hopefully', 'hour', 'housing', 'hub', 'huge', 'impacted', 'importantly', 'improve', 'improved', 'improvement', 'improving', 'incentive', 'including framing', 'income', 'income wa', 'increasing', 'increasingly', 'incremental', 'index', 'india', 'industrial', 'industry', 'inference', 'inflation', 'information', 'infrastructure', 'initial', 'initiative', 'innovation', 'institutional', 'instruction', 'insurance', 'integrated', 'integration', 'intelligence', 'intelligence global', 'interesting', 'internal', 'international', 'inventory', 'invest', 'invested', 'investing', 'investment banking', 'investor day', 'investor relation', 'isi', 'issue', 'item', 'job', 'joining', 'key', 'kgaa', 'labor', 'language', 'large', 'largely', 'larger', 'largest', 'later', 'latin', 'latin america', 'launch', 'launched', 'lead', 'leader', 'leadership', 'leading', 'learning', 'lease', 'leasing', 'led', 'lending', 'leverage', 'liability', 'life', 'like turn', 'likely', 'limited', 'line open', 'live', 'loan', 'local', 'logo', 'logo registered', 'longer', 'longer term', 'look forward', 'look like', 'loss', 'love', 'low', 'low single', 'macro', 'main', 'maintain', 'maintenance', 'major', 'majority', 'manage', 'management', 'managing', 'manufacturing', 'manufacturing company', 'margin expansion', 'marketing', 'marketplace', 'material', 'materially', 'matt', 'matter', 'mean prohibited', 'meaningful', 'measure', 'medium', 'meet', 'member', 'membership', 'memory', 'mentioned earlier', 'merchandise', 'metric', 'mi', 'mid', 'mid single', 'middle', 'midpoint', 'mind', 'minus', 'minute', 'mix', 'mobile', 'mobility', 'model', 'modest', 'moment', 'momentum', 'monetization', 'money', 'morning', 'moving', 'multi', 'multiple', 'nanometer', 'nature', 'near', 'near term', 'nearly', 'needed', 'negative', 'net', 'net income', 'network', 'networking', 'new product', 'new york', 'news', 'nice', 'node', 'non', 'normal', 'normalized', 'north', 'north america', 'note', 'noted', 'obligation', 'obviously', 'occupancy', 'offer', 'offering', 'office', 'offset', 'ongoing', 'online', 'open', 'opening', 'operate', 'operating expense', 'operating income', 'operating leverage', 'operating margin', 'operation', 'operational', 'opinion', 'optimistic', 'optimization', 'optimize', 'order', 'organic', 'organic sale', 'organization', 'outcome', 'outside', 'pace', 'packaging', 'page', 'paid', 'pandemic', 'partially', 'partially offset', 'participant', 'particular', 'particularly', 'partnership', 'party', 'past', 'path', 'pay', 'payment', 'pc', 'peak', 'peer', 'penetration', 'people', 'period', 'period time', 'perspective', 'ph', 'pick', 'piece', 'pilot', 'pipeline', 'place', 'plan', 'planned', 'planning', 'platform', 'play', 'plc', 'pleased', 'plus', 'policy', 'portfolio', 'portion', 'position', 'positioned', 'positive', 'possible', 'post', 'potential', 'potentially', 'power', 'powered', 'pre', 'pre pandemic', 'pre tax', 'premium', 'prepared', 'prepared remark', 'presentation', 'press', 'pressure', 'pretty', 'previous', 'previously', 'price', 'primarily', 'primarily driven', 'primary', 'prime', 'prior', 'prior written', 'priority', 'private', 'probably', 'proceed', 'process', 'production', 'productivity', 'profile', 'profitable', 'program', 'progress', 'prohibited', 'prohibited prior', 'project', 'property', 'proposition', 'proud', 'provided', 'provider', 'provides', 'providing', 'public', 'purchase', 'purpose', 'putting', 'quality', 'quickly', 'quite', 'ramp', 'range', 'rating', 'ratio', 'reach', 'reached', 'ready', 'real', 'real estate', 'reality', 'really good', 'reason', 'recent', 'recently', 'reconciliation', 'record', 'recorded', 'recovery', 'redistribution', 'redistribution content', 'reduce', 'reduced', 'reducing', 'reduction', 'refer', 'reflect', 'reflected', 'reflecting', 'reflects', 'regard', 'regarding', 'region', 'regional', 'registered', 'registered affiliated', 'regulatory', 'relates', 'relation', 'relationship', 'relative', 'relatively', 'relevant', 'remain', 'remained', 'remaining', 'remains', 'remark', 'remember', 'remind', 'reminder', 'report', 'reported', 'reporting', 'repurchase', 'requirement', 'research', 'reserve', 'resource', 'respect', 'rest', 'restructuring', 'result differ', 'resulting', 'retail', 'return', 'review', 'risk', 'risk uncertainty', 'road', 'robust', 'rod', 'role', 'room', 'rotce', 'roughly', 'rule', 'run', 'run rate', 'running', 'sachs', 'safety', 'sale', 'saving', 'saying', 'scale', 'schedule', 'season', 'seasonality', 'seat', 'sec', 'second half', 'section', 'sector', 'security', 'security research', 'sell', 'seller', 'selling', 'semiconductor', 'semiconductor manufacturing', 'senior', 'senior housing', 'sense', 'sequential', 'sequentially', 'series', 'serve', 'server', 'service', 'session', 'set', 'shareholder', 'sharing', 'sharon', 'sheet', 'shift', 'shipment', 'short', 'short term', 'sign', 'significantly', 'similar', 'similar mean', 'single', 'single digit', 'site', 'situation', 'size', 'slide', 'slightly', 'small', 'smaller', 'software', 'solid', 'solution', 'source', 'space', 'speak', 'special', 'specific', 'specifically', 'speed', 'spend', 'spending', 'spent', 'spread', 'stable', 'stack', 'stage', 'standpoint', 'started', 'starting', 'state', 'stay', 'step', 'stock', 'store', 'story', 'strategic', 'strategy', 'strength', 'stronger', 'structure', 'stuff', 'subject', 'subscription', 'success', 'successful', 'summer', 'supplier', 'supply', 'supply chain', 'support', 'supported', 'sustainable', 'tailwind', 'taiwan', 'taiwan semiconductor', 'taken', 'taking', 'target', 'tax', 'tax rate', 'tech', 'technical', 'technology', 'ted', 'teen', 'tell', 'thing like', 'think going', 'think wa', 'thinking', 'thought', 'tier', 'timing', 'took', 'tool', 'tower', 'track', 'trade', 'trading', 'traditional', 'training', 'trajectory', 'transaction', 'transformation', 'transition', 'travel', 'trillion', 'true', 'try', 'trying', 'turning', 'type', 'typically', 'ultimately', 'uncertainty', 'underlying', 'understand', 'unique', 'update', 'upside', 'use case', 'used', 'user', 'using', 'utilization', 'various', 'vehicle', 'vertical', 'video', 'view', 'visibility', 'volatility', 'wa driven', 'wage', 'wanted', 'warehouse', 'way think', 'wealth', 'wealth management', 'website', 'week', 'went', 'wholesale', 'win', 'window', 'won', 'wondering', 'working', 'workload', 'world', 'written', 'written consent', 'yield', 'york']\n"
     ]
    }
   ],
   "source": [
    "print(tfidf_train.columns.tolist())"
   ]
  },
  {
   "cell_type": "markdown",
   "id": "694857a9",
   "metadata": {},
   "source": []
  }
 ],
 "metadata": {
  "kernelspec": {
   "display_name": "venv",
   "language": "python",
   "name": "python3"
  },
  "language_info": {
   "codemirror_mode": {
    "name": "ipython",
    "version": 3
   },
   "file_extension": ".py",
   "mimetype": "text/x-python",
   "name": "python",
   "nbconvert_exporter": "python",
   "pygments_lexer": "ipython3",
   "version": "3.12.9"
  }
 },
 "nbformat": 4,
 "nbformat_minor": 5
}
